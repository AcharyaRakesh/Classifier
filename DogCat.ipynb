{
 "cells": [
  {
   "cell_type": "code",
   "execution_count": 1,
   "metadata": {},
   "outputs": [],
   "source": [
    "import tensorflow as tf\n",
    "from tensorflow.keras.preprocessing.image import ImageDataGenerator"
   ]
  },
  {
   "cell_type": "code",
   "execution_count": 2,
   "metadata": {},
   "outputs": [],
   "source": [
    "train_datagen = ImageDataGenerator(rescale = 1./255,shear_range=0.2,zoom_range=0.2, horizontal_flip = True)\n"
   ]
  },
  {
   "cell_type": "code",
   "execution_count": 3,
   "metadata": {},
   "outputs": [
    {
     "name": "stdout",
     "output_type": "stream",
     "text": [
      "Found 8005 images belonging to 1 classes.\n"
     ]
    }
   ],
   "source": [
    "training_set = train_datagen.flow_from_directory('training_set', target_size=(64,64),\n",
    "                                                batch_size = 32, class_mode = 'binary')"
   ]
  },
  {
   "cell_type": "code",
   "execution_count": 4,
   "metadata": {},
   "outputs": [
    {
     "name": "stdout",
     "output_type": "stream",
     "text": [
      "Found 1971 images belonging to 1 classes.\n"
     ]
    }
   ],
   "source": [
    "test_datagen = ImageDataGenerator(rescale = 1./255)\n",
    "test_set = test_datagen.flow_from_directory('test_set', target_size=(64,64),\n",
    "                                                batch_size = 32, class_mode = 'binary')\n"
   ]
  },
  {
   "cell_type": "code",
   "execution_count": 5,
   "metadata": {},
   "outputs": [],
   "source": [
    "cnn = tf.keras.models.Sequential()\n",
    "\n",
    "cnn.add(tf.keras.layers.Conv2D(filters=32, kernel_size=3 ,activation='relu',input_shape=[64,64,3]))\n",
    "\n",
    "cnn.add(tf.keras.layers.MaxPool2D(pool_size=2, strides=2 ))\n",
    "\n",
    "cnn.add(tf.keras.layers.Conv2D(filters=32, kernel_size=3 ,activation='relu'))\n",
    "\n",
    "cnn.add(tf.keras.layers.MaxPool2D(pool_size=2, strides=2 ))\n",
    "\n",
    "cnn.add(tf.keras.layers.Flatten())\n",
    "\n",
    "cnn.add(tf.keras.layers.Dense(units=128,activation='relu'))\n",
    "\n",
    "cnn.add(tf.keras.layers.Dense(units=1,activation='sigmoid'))\n"
   ]
  },
  {
   "cell_type": "code",
   "execution_count": 6,
   "metadata": {},
   "outputs": [
    {
     "name": "stdout",
     "output_type": "stream",
     "text": [
      "Model: \"sequential\"\n",
      "_________________________________________________________________\n",
      "Layer (type)                 Output Shape              Param #   \n",
      "=================================================================\n",
      "conv2d (Conv2D)              (None, 62, 62, 32)        896       \n",
      "_________________________________________________________________\n",
      "max_pooling2d (MaxPooling2D) (None, 31, 31, 32)        0         \n",
      "_________________________________________________________________\n",
      "conv2d_1 (Conv2D)            (None, 29, 29, 32)        9248      \n",
      "_________________________________________________________________\n",
      "max_pooling2d_1 (MaxPooling2 (None, 14, 14, 32)        0         \n",
      "_________________________________________________________________\n",
      "flatten (Flatten)            (None, 6272)              0         \n",
      "_________________________________________________________________\n",
      "dense (Dense)                (None, 128)               802944    \n",
      "_________________________________________________________________\n",
      "dense_1 (Dense)              (None, 1)                 129       \n",
      "=================================================================\n",
      "Total params: 813,217\n",
      "Trainable params: 813,217\n",
      "Non-trainable params: 0\n",
      "_________________________________________________________________\n"
     ]
    }
   ],
   "source": [
    "cnn.summary()"
   ]
  },
  {
   "cell_type": "code",
   "execution_count": 7,
   "metadata": {},
   "outputs": [
    {
     "name": "stdout",
     "output_type": "stream",
     "text": [
      "WARNING:tensorflow:sample_weight modes were coerced from\n",
      "  ...\n",
      "    to  \n",
      "  ['...']\n",
      "WARNING:tensorflow:sample_weight modes were coerced from\n",
      "  ...\n",
      "    to  \n",
      "  ['...']\n",
      "Train for 251 steps, validate for 62 steps\n",
      "Epoch 1/30\n",
      "251/251 [==============================] - 297s 1s/step - loss: 0.0029 - accuracy: 0.9991 - val_loss: 1.7012e-14 - val_accuracy: 1.0000\n",
      "Epoch 2/30\n",
      "251/251 [==============================] - 63s 250ms/step - loss: 7.7360e-13 - accuracy: 1.0000 - val_loss: 1.7012e-14 - val_accuracy: 1.0000\n",
      "Epoch 3/30\n",
      "251/251 [==============================] - 62s 245ms/step - loss: 3.5056e-13 - accuracy: 1.0000 - val_loss: 1.7012e-14 - val_accuracy: 1.0000\n",
      "Epoch 4/30\n",
      "251/251 [==============================] - 62s 246ms/step - loss: 4.5897e-13 - accuracy: 1.0000 - val_loss: 1.7012e-14 - val_accuracy: 1.0000\n",
      "Epoch 5/30\n",
      "251/251 [==============================] - 61s 245ms/step - loss: 5.5762e-13 - accuracy: 1.0000 - val_loss: 1.7012e-14 - val_accuracy: 1.0000\n",
      "Epoch 6/30\n",
      "251/251 [==============================] - 153s 608ms/step - loss: 1.7439e-12 - accuracy: 1.0000 - val_loss: 1.7011e-14 - val_accuracy: 1.0000\n",
      "Epoch 7/30\n",
      "251/251 [==============================] - 68s 272ms/step - loss: 3.5856e-11 - accuracy: 1.0000 - val_loss: 1.6999e-14 - val_accuracy: 1.0000\n",
      "Epoch 8/30\n",
      "251/251 [==============================] - 65s 261ms/step - loss: 7.3626e-13 - accuracy: 1.0000 - val_loss: 1.6999e-14 - val_accuracy: 1.0000\n",
      "Epoch 9/30\n",
      "251/251 [==============================] - 64s 255ms/step - loss: 1.1938e-11 - accuracy: 1.0000 - val_loss: 1.6994e-14 - val_accuracy: 1.0000\n",
      "Epoch 10/30\n",
      "251/251 [==============================] - 63s 252ms/step - loss: 8.9846e-13 - accuracy: 1.0000 - val_loss: 1.6994e-14 - val_accuracy: 1.0000\n",
      "Epoch 11/30\n",
      "251/251 [==============================] - 63s 252ms/step - loss: 5.1440e-13 - accuracy: 1.0000 - val_loss: 1.6994e-14 - val_accuracy: 1.0000\n",
      "Epoch 12/30\n",
      "251/251 [==============================] - 63s 253ms/step - loss: 5.3267e-13 - accuracy: 1.0000 - val_loss: 1.6993e-14 - val_accuracy: 1.0000\n",
      "Epoch 13/30\n",
      "251/251 [==============================] - 68s 273ms/step - loss: 3.0156e-13 - accuracy: 1.0000 - val_loss: 1.6993e-14 - val_accuracy: 1.0000\n",
      "Epoch 14/30\n",
      "251/251 [==============================] - 65s 257ms/step - loss: 1.1887e-12 - accuracy: 1.0000 - val_loss: 1.6993e-14 - val_accuracy: 1.0000\n",
      "Epoch 15/30\n",
      "251/251 [==============================] - 66s 263ms/step - loss: 7.1030e-13 - accuracy: 1.0000 - val_loss: 1.6993e-14 - val_accuracy: 1.0000\n",
      "Epoch 16/30\n",
      "251/251 [==============================] - 70s 277ms/step - loss: 2.2493e-13 - accuracy: 1.0000 - val_loss: 1.6992e-14 - val_accuracy: 1.0000\n",
      "Epoch 17/30\n",
      "251/251 [==============================] - 63s 250ms/step - loss: 9.5514e-13 - accuracy: 1.0000 - val_loss: 1.6992e-14 - val_accuracy: 1.0000\n",
      "Epoch 18/30\n",
      "251/251 [==============================] - 64s 253ms/step - loss: 2.0518e-13 - accuracy: 1.0000 - val_loss: 1.6992e-14 - val_accuracy: 1.0000\n",
      "Epoch 19/30\n",
      "251/251 [==============================] - 62s 246ms/step - loss: 9.2710e-13 - accuracy: 1.0000 - val_loss: 1.6991e-14 - val_accuracy: 1.0000\n",
      "Epoch 20/30\n",
      "251/251 [==============================] - 487s 2s/step - loss: 1.2027e-12 - accuracy: 1.0000 - val_loss: 1.6989e-14 - val_accuracy: 1.0000\n",
      "Epoch 21/30\n",
      "251/251 [==============================] - 70s 279ms/step - loss: 9.5705e-13 - accuracy: 1.0000 - val_loss: 1.6988e-14 - val_accuracy: 1.0000\n",
      "Epoch 22/30\n",
      "251/251 [==============================] - 68s 273ms/step - loss: 2.2985e-13 - accuracy: 1.0000 - val_loss: 1.6988e-14 - val_accuracy: 1.0000\n",
      "Epoch 23/30\n",
      "251/251 [==============================] - 67s 265ms/step - loss: 4.4299e-13 - accuracy: 1.0000 - val_loss: 1.6988e-14 - val_accuracy: 1.0000\n",
      "Epoch 24/30\n",
      "251/251 [==============================] - 66s 263ms/step - loss: 1.8554e-13 - accuracy: 1.0000 - val_loss: 1.6988e-14 - val_accuracy: 1.0000\n",
      "Epoch 25/30\n",
      "251/251 [==============================] - 66s 265ms/step - loss: 4.1811e-13 - accuracy: 1.0000 - val_loss: 1.6987e-14 - val_accuracy: 1.0000\n",
      "Epoch 26/30\n",
      "251/251 [==============================] - 64s 257ms/step - loss: 6.9002e-13 - accuracy: 1.0000 - val_loss: 1.6986e-14 - val_accuracy: 1.0000\n",
      "Epoch 27/30\n",
      "251/251 [==============================] - 65s 260ms/step - loss: 6.5786e-13 - accuracy: 1.0000 - val_loss: 1.6984e-14 - val_accuracy: 1.0000\n",
      "Epoch 28/30\n",
      "251/251 [==============================] - 64s 257ms/step - loss: 1.3495e-12 - accuracy: 1.0000 - val_loss: 1.6981e-14 - val_accuracy: 1.0000\n",
      "Epoch 29/30\n",
      "251/251 [==============================] - 66s 261ms/step - loss: 4.4669e-13 - accuracy: 1.0000 - val_loss: 1.6979e-14 - val_accuracy: 1.0000\n",
      "Epoch 30/30\n",
      "251/251 [==============================] - 64s 256ms/step - loss: 1.7971e-12 - accuracy: 1.0000 - val_loss: 1.6973e-14 - val_accuracy: 1.0000\n"
     ]
    },
    {
     "data": {
      "text/plain": [
       "<tensorflow.python.keras.callbacks.History at 0x139aead9240>"
      ]
     },
     "execution_count": 7,
     "metadata": {},
     "output_type": "execute_result"
    }
   ],
   "source": [
    "cnn.compile(optimizer='adam', loss='binary_crossentropy', metrics= ['accuracy'])\n",
    "cnn.fit(x= training_set, validation_data=test_set, epochs=30)"
   ]
  },
  {
   "cell_type": "code",
   "execution_count": 14,
   "metadata": {},
   "outputs": [],
   "source": [
    "from tensorflow.keras.models import load_model\n",
    "\n",
    "cnn.save('model_rcat_dog.h5')\n",
    "\n",
    "model = load_model('model_rcat_dog.h5')\n"
   ]
  },
  {
   "cell_type": "code",
   "execution_count": 10,
   "metadata": {},
   "outputs": [
    {
     "ename": "ImportError",
     "evalue": "cannot import name 'image'",
     "output_type": "error",
     "traceback": [
      "\u001b[1;31m---------------------------------------------------------------------------\u001b[0m",
      "\u001b[1;31mImportError\u001b[0m                               Traceback (most recent call last)",
      "\u001b[1;32m<ipython-input-10-95dd533d046d>\u001b[0m in \u001b[0;36m<module>\u001b[1;34m\u001b[0m\n\u001b[1;32m----> 1\u001b[1;33m \u001b[1;32mfrom\u001b[0m \u001b[0mtensorflow\u001b[0m\u001b[1;33m.\u001b[0m\u001b[0mkeras\u001b[0m\u001b[1;33m.\u001b[0m\u001b[0mmodels\u001b[0m \u001b[1;32mimport\u001b[0m \u001b[0mimage\u001b[0m\u001b[1;33m\u001b[0m\u001b[1;33m\u001b[0m\u001b[0m\n\u001b[0m",
      "\u001b[1;31mImportError\u001b[0m: cannot import name 'image'"
     ]
    }
   ],
   "source": [
    "from tensorflow.keras.model import image\n"
   ]
  },
  {
   "cell_type": "code",
   "execution_count": 19,
   "metadata": {},
   "outputs": [
    {
     "name": "stdout",
     "output_type": "stream",
     "text": [
      "image classified as cat\n"
     ]
    }
   ],
   "source": [
    "import numpy as np\n",
    "from tensorflow.keras.preprocessing import image\n",
    "test_image = image.load_img('test_set/test_set/cats/cat.4055.jpg',target_size=(64,64) )\n",
    "test_image = image.img_to_array(test_image)\n",
    "test_image = test_image/255\n",
    "test_image=np.expand_dims(test_image,axis=0)\n",
    "result = model.predict(test_image)\n",
    "\n",
    "if result[0]<=0.5:\n",
    "    print('image classified as cat')\n",
    "else:\n",
    "    print('image is dog')"
   ]
  },
  {
   "cell_type": "code",
   "execution_count": null,
   "metadata": {},
   "outputs": [],
   "source": []
  }
 ],
 "metadata": {
  "kernelspec": {
   "display_name": "Python 3",
   "language": "python",
   "name": "python3"
  },
  "language_info": {
   "codemirror_mode": {
    "name": "ipython",
    "version": 3
   },
   "file_extension": ".py",
   "mimetype": "text/x-python",
   "name": "python",
   "nbconvert_exporter": "python",
   "pygments_lexer": "ipython3",
   "version": "3.8.3"
  }
 },
 "nbformat": 4,
 "nbformat_minor": 4
}
